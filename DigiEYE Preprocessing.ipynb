{
 "cells": [
  {
   "cell_type": "code",
   "execution_count": 121,
   "id": "27bfe9b0",
   "metadata": {},
   "outputs": [],
   "source": [
    "import nltk\n",
    "import spacy\n",
    "import requests\n",
    "from bs4 import BeautifulSoup\n",
    "import urllib.parse"
   ]
  },
  {
   "cell_type": "code",
   "execution_count": 122,
   "id": "c89e4985",
   "metadata": {},
   "outputs": [],
   "source": [
    "import re"
   ]
  },
  {
   "cell_type": "markdown",
   "id": "29490f90",
   "metadata": {},
   "source": [
    "# Recommended Steps:\n",
    "\n",
    "# 1-) Web Scraping\n",
    "# 2-) Lowercasing\n",
    "# 3-) Remove Punctuation\n",
    "# 4-) Remove Stopwords\n",
    "# 5-) Tokenize the text\n",
    "# 6-) Lemmatize\n",
    "# 7-) Customize the expressions\n",
    "# 8-) Convert string to list (Optional) \n",
    "#\n",
    "#\n"
   ]
  },
  {
   "cell_type": "markdown",
   "id": "61495f25",
   "metadata": {},
   "source": [
    "# Web Scraping "
   ]
  },
  {
   "cell_type": "code",
   "execution_count": 123,
   "id": "7f1cec00",
   "metadata": {},
   "outputs": [],
   "source": [
    "import requests\n",
    "from bs4 import BeautifulSoup\n",
    "import urllib.parse\n",
    "\n",
    "def webden_texti_cek(base_url):\n",
    "    response = requests.get(base_url)\n",
    "    html_icerigi = response.content\n",
    "    soup = BeautifulSoup(html_icerigi, \"html.parser\")\n",
    "    \n",
    "    main_page_texts = [p.text for p in soup.find_all(\"p\")] #ana sayfadaki veriler\n",
    "    \n",
    "    urls = [i.get(\"href\") for i in soup.find_all(\"a\") if i.get(\"href\")]\n",
    "    normalized_urls = [urllib.parse.urljoin(base_url, link).rstrip('/') for link in urls if urllib.parse.urljoin(base_url, link).startswith(base_url)]\n",
    "    filtered_urls = list(set(normalized_urls))  # Set ile unique eleman\n",
    "    \n",
    "    all_texts = []\n",
    "    \n",
    "    for link in filtered_urls:\n",
    "        try:\n",
    "            response = requests.get(link)\n",
    "            html_icerigi = response.content\n",
    "            soup = BeautifulSoup(html_icerigi, \"html.parser\")\n",
    "            page_texts = [p.text for p in soup.find_all(\"p\")]\n",
    "\n",
    "            all_texts.extend(page_texts)  # <p> etiketlerindeki metinleri düz listeye ekle\n",
    "        except requests.RequestException as e:\n",
    "            print(f\"URL'e erişilemedi: {link}\")\n",
    "            print(e)\n",
    "        \n",
    "    all_texts.extend(main_page_texts)\n",
    "    all_texts_combined = ' '.join(all_texts)\n",
    "    \n",
    "    return all_texts_combined\n",
    "\n",
    "\n"
   ]
  },
  {
   "cell_type": "code",
   "execution_count": 49,
   "id": "9c92f4d2",
   "metadata": {},
   "outputs": [],
   "source": [
    "digieye_textim = webden_texti_cek(\"https://digieye.ai/\")"
   ]
  },
  {
   "cell_type": "markdown",
   "id": "04653442",
   "metadata": {},
   "source": [
    "# Lowercasing"
   ]
  },
  {
   "cell_type": "code",
   "execution_count": 124,
   "id": "02882bd8",
   "metadata": {
    "scrolled": true
   },
   "outputs": [
    {
     "name": "stdout",
     "output_type": "stream",
     "text": [
      "our valuable customer & partners our valuable customer & partners contact us to seek answers for your product-related questions or schedule demos. explore job possibilities and join our team to help us achieve it. great people deserve great benefits continuous learning, mentorship, career growth flexibility, remote work for ",
      "well-being you know what you need to do and when it needs to be it’s a philosophy of freely sharing information in the workplace in a way that benefits the organization and its people. hybrid | istanbul, turkey hybrid | istanbul, turkey the powerful cpu has 1 us cycle time. also it has ethernet/ip communication for data collecting. io-box exp-an module has 24 isolated analog inputs. io-box exp-io module has 16 isolated digital inputs and 16 isolated digital output. after training the model on digilab easily, just needed to click the “upload” button to run the real-time inferencing on dl-box that is edge ai device. dl-box is fully integrated with the no-code ai platform digilab. dlaas (deep learning as a service) is a new service methods for ai tasks. dl-box can be used as api service with any server or devices. dl-box is an “edge ai device” equipped with powerful nvidia gpus and cpus that allow you to run your image processing and artificial intelligence applications in real-time. digieye founded powered by knowledge and experience in the fields of ‘industry 4.0(iot), image processing and artificial intelligence’. digieye has over than ten years of experience in the industry has successfully developed products and activities in the fields of software, digitalization, electronic systems, optical systems, image processing and artificial intelligence.  continuing to work with the lead companies of the industry, digieye produces technology to implement new products with innovative thinking. to provide technology with innovative thinking to every person and organization on the world for digitalization of business, home and life. providing user convenience at every stage of digitalization. empowering success through partnerships with our diverse and esteemed clientele. data collecting, training and real-time implementation is so easy with no-code ai platform “digilab”. q-cam-lite camera is suitable for multiple tasks with multiple cameras applications.  dl-box can works with up to  4 pcs. q-cam-lite cameras.   q-cam-lite has powerful vision processors for multiple tasks.  qcam-s is an industrial-grade smart camera that houses a artificial intelligence processor and image sensor.   the q-cam smart camera facilitates the implementation of artificial intelligence-based machine vision application in various industries with its different lens and light source options. fully integrated with the no-code image processing and artificial intelligence platform digilab, q-cam-s provides ease of use and fast application deployment. digilab iot is fully integrated with io-box for real-time data collecting. after connecting the sensors to io-box as plug and play. digilab iot will start to show the sensors on the main screen and collect the data. drag & drop the data and select graphic types to main dashboard for visualizing the sensors that shown on left side of ui easily. digilab iot saves all of data from sensors that is connected. you can see all of data on record page and create an event for conditions. if you have your dataset import it easily to digilab. if not, you can collect it with q-cam that is integrated with digilab. labelling and anotation has never been easier with digilab. you can use the smart and user-friendly digilab tools to make it faster! to train dataset only needed to click “train” button on the digilab. it will set everything for you without code. then, to upload new trained ai model to dl-box (edge ai device) or to q-cam-s (smart camera with built-in ai) you just click the “download” button . our valuable customer & partners\n"
     ]
    }
   ],
   "source": [
    "def lowercasing(text):\n",
    "    lower_text = text.lower()\n",
    "    return lower_text\n",
    "\n",
    "print(lowercasing(digieye_textim))"
   ]
  },
  {
   "cell_type": "markdown",
   "id": "19ed1e0b",
   "metadata": {},
   "source": [
    "# Removing Punctuation"
   ]
  },
  {
   "cell_type": "code",
   "execution_count": 125,
   "id": "9525bbf9",
   "metadata": {},
   "outputs": [
    {
     "name": "stdout",
     "output_type": "stream",
     "text": [
      "Our Valuable Customer  Partners Our Valuable Customer  Partners Contact us to seek answers for your productrelated questions or schedule demos Explore job possibilities and join our team to help us achieve it Great people deserve great benefits Continuous learning mentorship career growth Flexibility remote work for ",
      "wellbeing You know what you need to do and when it needs to be It’s a philosophy of freely sharing information in the workplace in a way that benefits the organization and its people Hybrid  Istanbul Turkey Hybrid  Istanbul Turkey The powerful cpu has 1 us cycle time Also it has EthernetIP communication for data collecting IOBox ExpAN module has 24 isolated analog inputs IOBox ExpIO module has 16 isolated digital inputs and 16 isolated digital output After training the model on DigiLab easily just needed to click the “Upload” button to run the realtime inferencing on DLBox that is edge AI device DLBox is fully integrated with the nocode AI platform DigiLab DLaaS Deep Learning as a Service is a new service methods for AI tasks DLBox can be used as API service with any server or devices DLBox is an “Edge AI Device” equipped with powerful Nvidia GPUs and CPUs that allow you to run your image processing and artificial intelligence applications in realtime DigiEye founded powered by knowledge and experience in the fields of ‘Industry 40IoT Image Processing and Artificial Intelligence’ DigiEye has over than ten years of experience in the industry has successfully developed products and activities in the fields of software digitalization electronic systems optical systems image processing and artificial intelligence  Continuing to work with the lead companies of the industry DigiEye produces technology to implement new products with innovative thinking To provide technology with innovative thinking to every person and organization on the world for digitalization of business home and life Providing user convenience at every stage of digitalization Empowering success through partnerships with our diverse and esteemed clientele Data collecting training and realtime implementation is so easy with NoCode AI Platform “DigiLab” QCamLite camera is suitable for multiple tasks with multiple cameras applications  DLBox can works with up to  4 pcs QCamLite cameras   QCamLite has powerful vision processors for multiple tasks  QCamS is an industrialgrade smart camera that houses a artificial intelligence processor and image sensor   The QCam smart camera facilitates the implementation of artificial intelligencebased machine vision application in various industries with its different lens and light source options Fully Integrated with the NoCode image processing and artificial intelligence platform DigiLab QCamS provides ease of use and fast application deployment DigiLab IoT is fully integrated with IOBox for realtime data collecting After connecting the sensors to IOBox as plug and play DigiLab IoT will start to show the sensors on the main screen and collect the data Drag  Drop the data and select graphic types to main dashboard for visualizing the sensors that shown on left side of ui easily DigiLab IoT saves all of data from sensors that is connected You can see all of data on Record Page and create an event for conditions If you have your dataset import it easily to DigiLab If not you can collect it with QCam that is integrated with DigiLab Labelling and anotation has never been easier with Digilab You can use the smart and userfriendly DigiLab tools to make it faster To train dataset only needed to click “Train” button on the DigiLab It will set everything for you without code Then to upload new trained AI model to DLBox Edge AI Device or to QCamS Smart Camera with builtin AI you just click the “Download” button  Our Valuable Customer  Partners\n"
     ]
    }
   ],
   "source": [
    "import string\n",
    "exclude = string.punctuation\n",
    "\n",
    "def remove_punc(text):\n",
    "    return text.translate(str.maketrans('', '', exclude))\n",
    "\n",
    "\n",
    "print(remove_punc(digieye_textim))"
   ]
  },
  {
   "cell_type": "markdown",
   "id": "9ccdea1d",
   "metadata": {},
   "source": [
    "# Removing Stop Words"
   ]
  },
  {
   "cell_type": "code",
   "execution_count": 126,
   "id": "1b77c83a",
   "metadata": {},
   "outputs": [
    {
     "data": {
      "text/plain": [
       "'Our Valuable Customer & Partners Our Valuable Customer & Partners Contact us seek answers product-related questions schedule demos. Explore job possibilities join team help us achieve it. Great people deserve great benefits Continuous learning, mentorship, career growth Flexibility, remote work well-being You know need needs It’s philosophy freely sharing information workplace way benefits organization people. Hybrid | Istanbul, Turkey Hybrid | Istanbul, Turkey The powerful cpu 1 us cycle time. Also Ethernet/IP communication data collecting. IO-Box Exp-AN module 24 isolated analog inputs. IO-Box Exp-IO module 16 isolated digital inputs 16 isolated digital output. After training model DigiLab easily, needed click “Upload” button run real-time inferencing DL-Box edge AI device. DL-Box fully integrated no-code AI platform DigiLab. DLaaS (Deep Learning Service) new service methods AI tasks. DL-Box used API service server devices. DL-Box “Edge AI Device” equipped powerful Nvidia GPUs CPUs allow run image processing artificial intelligence applications real-time. DigiEye founded powered knowledge experience fields ‘Industry 4.0(IoT), Image Processing Artificial Intelligence’. DigiEye ten years experience industry successfully developed products activities fields software, digitalization, electronic systems, optical systems, image processing artificial intelligence. Continuing work lead companies industry, DigiEye produces technology implement new products innovative thinking. To provide technology innovative thinking every person organization world digitalization business, home life. Providing user convenience every stage digitalization. Empowering success partnerships diverse esteemed clientele. Data collecting, training real-time implementation easy No-Code AI Platform “DigiLab”. Q-Cam-Lite camera suitable multiple tasks multiple cameras applications. DL-Box works 4 pcs. Q-Cam-Lite cameras. Q-Cam-Lite powerful vision processors multiple tasks. QCam-S industrial-grade smart camera houses artificial intelligence processor image sensor. The Q-Cam smart camera facilitates implementation artificial intelligence-based machine vision application various industries different lens light source options. Fully Integrated No-Code image processing artificial intelligence platform DigiLab, Q-Cam-S provides ease use fast application deployment. DigiLab IoT fully integrated IO-Box real-time data collecting. After connecting sensors IO-Box plug play. DigiLab IoT start show sensors main screen collect data. Drag & Drop data select graphic types main dashboard visualizing sensors shown left side ui easily. DigiLab IoT saves data sensors connected. You see data Record Page create event conditions. If dataset import easily DigiLab. If not, collect Q-Cam integrated DigiLab. Labelling anotation never easier Digilab. You use smart user-friendly DigiLab tools make faster! To train dataset needed click “Train” button DigiLab. It set everything without code. Then, upload new trained AI model DL-Box (Edge AI Device) Q-Cam-S (Smart Camera built-in AI) click “Download” button . Our Valuable Customer & Partners'"
      ]
     },
     "execution_count": 126,
     "metadata": {},
     "output_type": "execute_result"
    }
   ],
   "source": [
    "from nltk.corpus import stopwords\n",
    "stopwords_english = stopwords.words('english')\n",
    "\n",
    "def remove_stopwords(text):\n",
    "    new_text = []\n",
    "    for word in text.split():\n",
    "        if word in stopwords_english:\n",
    "            continue\n",
    "        else:\n",
    "            new_text.append(word)\n",
    "\n",
    "    return ' '.join(new_text)\n",
    "\n",
    "\n",
    "remove_stopwords(digieye_textim) #Contact us to seek answers -> Contact us seek answers"
   ]
  },
  {
   "cell_type": "markdown",
   "id": "cfa0d832",
   "metadata": {},
   "source": [
    "# Tokenization"
   ]
  },
  {
   "cell_type": "code",
   "execution_count": 127,
   "id": "c5ab459e",
   "metadata": {},
   "outputs": [
    {
     "data": {
      "text/plain": [
       "'Our Valuable Customer & Partners Our Valuable Customer & Partners Contact us to seek answers for your product - related questions or schedule demos . Explore job possibilities and join our team to help us achieve it . Great people deserve great benefits Continuous learning , mentorship , career growth Flexibility , remote work for \\u2028 well - being You know what you need to do and when it needs to be It ’s a philosophy of freely sharing information in the workplace in a way that benefits the organization and its people . Hybrid | \\xa0 Istanbul , Turkey Hybrid | \\xa0 Istanbul , Turkey The powerful cpu has 1 us cycle time . Also it has Ethernet / IP communication for data collecting . IO - Box Exp - AN module has 24 isolated analog inputs . IO - Box Exp - IO module has 16 isolated digital inputs and 16 isolated digital output . After training the model on DigiLab easily , just needed to click the “ Upload ” button to run the real - time inferencing on DL - Box that is edge AI device . DL - Box is fully integrated with the no - code AI platform DigiLab . DLaaS ( Deep Learning as a Service ) is a new service methods for AI tasks . DL - Box can be used as API service with any server or devices . DL - Box is an “ Edge AI Device ” equipped with powerful Nvidia GPUs and CPUs that allow you to run your image processing and artificial intelligence applications in real - time . DigiEye founded powered by knowledge and experience in the fields of ‘ Industry 4.0(IoT ) , Image Processing and Artificial Intelligence ’ . DigiEye has over than ten years of experience in the industry has successfully developed products and activities in the fields of software , digitalization , electronic systems , optical systems , image processing and artificial intelligence . \\xa0  Continuing to work with the lead companies of the industry , DigiEye produces technology to implement new products with innovative thinking . To provide technology with innovative thinking to every person and organization on the world for digitalization of business , home and life . Providing user convenience at every stage of digitalization . Empowering success through partnerships with our diverse and esteemed clientele . Data collecting , training and real - time implementation is so easy with No - Code AI Platform “ DigiLab ” . Q - Cam - Lite camera is suitable for multiple tasks with multiple cameras applications . \\xa0  DL - Box can works with up to \\xa0  4 pcs . Q - Cam - Lite cameras . \\xa0  Q - Cam - Lite has powerful vision processors for multiple tasks . \\xa0  QCam - S is an industrial - grade smart camera that houses a artificial intelligence processor and image sensor . \\xa0  The Q - Cam smart camera facilitates the implementation of artificial intelligence - based machine vision application in various industries with its different lens and light source options . Fully Integrated with the No - Code image processing and artificial intelligence platform DigiLab , Q - Cam - S provides ease of use and fast application deployment . DigiLab IoT is fully integrated with IO - Box for real - time data collecting . After connecting the sensors to IO - Box as plug and play . DigiLab IoT will start to show the sensors on the main screen and collect the data . Drag & Drop the data and select graphic types to main dashboard for visualizing the sensors that shown on left side of ui easily . DigiLab IoT saves all of data from sensors that is connected . You can see all of data on Record Page and create an event for conditions . If you have your dataset import it easily to DigiLab . If not , you can collect it with Q - Cam that is integrated with DigiLab . Labelling and anotation has never been easier with Digilab . You can use the smart and user - friendly DigiLab tools to make it faster ! To train dataset only needed to click “ Train ” button on the DigiLab . It will set everything for you without code . Then , to upload new trained AI model to DL - Box ( Edge AI Device ) or to Q - Cam - S ( Smart Camera with built - in AI ) you just click the “ Download ” button . Our Valuable Customer & Partners'"
      ]
     },
     "execution_count": 127,
     "metadata": {},
     "output_type": "execute_result"
    }
   ],
   "source": [
    "import spacy \n",
    "nlp = spacy.load(\"en_core_web_sm\")\n",
    "\n",
    "\n",
    "def Tokenize_Text(text):\n",
    "    tokenized_words = []\n",
    "    doc = nlp(text)\n",
    "    for token in doc:\n",
    "        tokenized_words.append(token.text)\n",
    "    return ' '.join(tokenized_words)\n",
    "\n",
    "Tokenize_Text(digieye_textim)"
   ]
  },
  {
   "cell_type": "markdown",
   "id": "06983fe1",
   "metadata": {},
   "source": [
    "# Lemmatizing"
   ]
  },
  {
   "cell_type": "code",
   "execution_count": 128,
   "id": "577f2d6e",
   "metadata": {},
   "outputs": [
    {
     "data": {
      "text/plain": [
       "'our Valuable Customer & Partners our Valuable Customer & Partners contact we to seek answer for your product - relate question or schedule demo . explore job possibility and join our team to help we achieve it . great people deserve great benefit Continuous learning , mentorship , career growth flexibility , remote work for \\u2028 well - being you know what you need to do and when it need to be it ’ a philosophy of freely share information in the workplace in a way that benefit the organization and its people . hybrid | \\xa0 Istanbul , Turkey Hybrid | \\xa0 Istanbul , Turkey the powerful cpu have 1 us cycle time . also it have Ethernet / IP communication for datum collect . IO - Box Exp - AN module have 24 isolated analog input . IO - Box Exp - IO module have 16 isolate digital input and 16 isolate digital output . after train the model on DigiLab easily , just need to click the \" Upload \" button to run the real - time inference on DL - Box that be edge AI device . DL - Box be fully integrate with the no - code AI platform DigiLab . DLaaS ( Deep Learning as a Service ) be a new service method for AI task . DL - Box can be use as api service with any server or device . DL - Box be an \" Edge AI device \" equip with powerful Nvidia gpu and cpu that allow you to run your image processing and artificial intelligence application in real - time . DigiEye found power by knowledge and experience in the field of \\' Industry 4.0(iot ) , Image Processing and Artificial Intelligence \\' . DigiEye have over than ten year of experience in the industry have successfully develop product and activity in the field of software , digitalization , electronic system , optical system , image processing and artificial intelligence . \\xa0  continue to work with the lead company of the industry , DigiEye produce technology to implement new product with innovative thinking . to provide technology with innovative thinking to every person and organization on the world for digitalization of business , home and life . provide user convenience at every stage of digitalization . empower success through partnership with our diverse and esteemed clientele . datum collect , training and real - time implementation be so easy with no - Code AI Platform \" DigiLab \" . Q - Cam - Lite camera be suitable for multiple task with multiple camera application . \\xa0  DL - Box can work with up to \\xa0  4 pc . Q - Cam - Lite camera . \\xa0  Q - Cam - Lite have powerful vision processor for multiple task . \\xa0  QCam - S be an industrial - grade smart camera that house a artificial intelligence processor and image sensor . \\xa0  the Q - cam smart camera facilitate the implementation of artificial intelligence - base machine vision application in various industry with its different lens and light source option . fully integrate with the no - Code image processing and artificial intelligence platform DigiLab , Q - Cam - S provide ease of use and fast application deployment . DigiLab iot be fully integrate with IO - Box for real - time datum collect . after connect the sensor to IO - Box as plug and play . DigiLab iot will start to show the sensor on the main screen and collect the datum . Drag & Drop the datum and select graphic type to main dashboard for visualize the sensor that show on left side of ui easily . DigiLab iot save all of datum from sensor that be connect . you can see all of datum on Record Page and create an event for condition . if you have your dataset import it easily to DigiLab . if not , you can collect it with Q - Cam that be integrate with DigiLab . labelling and anotation have never be easy with Digilab . you can use the smart and user - friendly DigiLab tool to make it fast ! to train dataset only need to click \" train \" button on the DigiLab . it will set everything for you without code . then , to upload new train AI model to DL - Box ( Edge AI Device ) or to Q - Cam - S ( Smart Camera with build - in AI ) you just click the \" Download \" button . our Valuable Customer & Partners'"
      ]
     },
     "execution_count": 128,
     "metadata": {},
     "output_type": "execute_result"
    }
   ],
   "source": [
    "import spacy \n",
    "nlp = spacy.load(\"en_core_web_sm\")\n",
    "\n",
    "\n",
    "def Lemmatize(text):\n",
    "    lemmatized_words = []\n",
    "    doc = nlp(text)\n",
    "    for token in doc:\n",
    "        lemmatized_words.append(token.lemma_)\n",
    "    return ' '.join(lemmatized_words)\n",
    "        \n",
    "Lemmatize(digieye_textim)"
   ]
  },
  {
   "cell_type": "markdown",
   "id": "f0eb9fb8",
   "metadata": {},
   "source": [
    "# Stemming"
   ]
  },
  {
   "cell_type": "code",
   "execution_count": 129,
   "id": "757f3785",
   "metadata": {},
   "outputs": [
    {
     "data": {
      "text/plain": [
       "'our valuabl custom & partner our valuabl custom & partner contact us to seek answer for your product-rel question or schedul demos. explor job possibl and join our team to help us achiev it. great peopl deserv great benefit continu learning, mentorship, career growth flexibility, remot work for well-b you know what you need to do and when it need to be it’ a philosophi of freeli share inform in the workplac in a way that benefit the organ and it people. hybrid | istanbul, turkey hybrid | istanbul, turkey the power cpu ha 1 us cycl time. also it ha ethernet/ip commun for data collecting. io-box exp-an modul ha 24 isol analog inputs. io-box exp-io modul ha 16 isol digit input and 16 isol digit output. after train the model on digilab easily, just need to click the “upload” button to run the real-tim inferenc on dl-box that is edg ai device. dl-box is fulli integr with the no-cod ai platform digilab. dlaa (deep learn as a service) is a new servic method for ai tasks. dl-box can be use as api servic with ani server or devices. dl-box is an “edg ai device” equip with power nvidia gpu and cpu that allow you to run your imag process and artifici intellig applic in real-time. digiey found power by knowledg and experi in the field of ‘industri 4.0(iot), imag process and artifici intelligence’. digiey ha over than ten year of experi in the industri ha success develop product and activ in the field of software, digitalization, electron systems, optic systems, imag process and artifici intelligence. continu to work with the lead compani of the industry, digiey produc technolog to implement new product with innov thinking. to provid technolog with innov think to everi person and organ on the world for digit of business, home and life. provid user conveni at everi stage of digitalization. empow success through partnership with our divers and esteem clientele. data collecting, train and real-tim implement is so easi with no-cod ai platform “digilab”. q-cam-lit camera is suitabl for multipl task with multipl camera applications. dl-box can work with up to 4 pcs. q-cam-lit cameras. q-cam-lit ha power vision processor for multipl tasks. qcam- is an industrial-grad smart camera that hous a artifici intellig processor and imag sensor. the q-cam smart camera facilit the implement of artifici intelligence-bas machin vision applic in variou industri with it differ len and light sourc options. fulli integr with the no-cod imag process and artifici intellig platform digilab, q-cam- provid eas of use and fast applic deployment. digilab iot is fulli integr with io-box for real-tim data collecting. after connect the sensor to io-box as plug and play. digilab iot will start to show the sensor on the main screen and collect the data. drag & drop the data and select graphic type to main dashboard for visual the sensor that shown on left side of ui easily. digilab iot save all of data from sensor that is connected. you can see all of data on record page and creat an event for conditions. if you have your dataset import it easili to digilab. if not, you can collect it with q-cam that is integr with digilab. label and anot ha never been easier with digilab. you can use the smart and user-friendli digilab tool to make it faster! to train dataset onli need to click “train” button on the digilab. it will set everyth for you without code. then, to upload new train ai model to dl-box (edg ai device) or to q-cam- (smart camera with built-in ai) you just click the “download” button . our valuabl custom & partner'"
      ]
     },
     "execution_count": 129,
     "metadata": {},
     "output_type": "execute_result"
    }
   ],
   "source": [
    "from nltk.stem.porter import PorterStemmer\n",
    "ps = PorterStemmer()\n",
    "def apply_stemming(text):\n",
    "    new_text = [ps.stem(word) for word in text.split()]\n",
    "    return ' '.join(new_text)\n",
    "\n",
    "\n",
    "apply_stemming(digieye_textim)  # Lemmatizing gives better output than Stemming"
   ]
  },
  {
   "cell_type": "markdown",
   "id": "0e60f8e5",
   "metadata": {},
   "source": [
    "# Customization"
   ]
  },
  {
   "cell_type": "code",
   "execution_count": 130,
   "id": "5deab09e",
   "metadata": {},
   "outputs": [
    {
     "name": "stdout",
     "output_type": "stream",
     "text": [
      "Yo -> Yo\n",
      ", -> ,\n",
      "what -> what\n",
      "'s -> be\n",
      "up -> up\n",
      "Bro -> Brother\n",
      "? -> ?\n",
      "How -> how\n",
      "'s -> be\n",
      "it -> it\n",
      "going -> go\n",
      "Brah -> Brother\n",
      "and -> and\n",
      "Broski -> Brother\n",
      "? -> ?\n"
     ]
    }
   ],
   "source": [
    "import spacy\n",
    "\n",
    "nlp = spacy.load(\"en_core_web_sm\") #Spacy language model\n",
    "\n",
    "def add_custom_lemmas(nlp, word_mappings, target_lemma):\n",
    "    \n",
    "    # nlp-> Spacy language model object\n",
    "    # word_mappings (list) -> word list for lemmatizing\n",
    "    # target lemma (str) -> last word after lemmatizing\n",
    "    \n",
    "    ar = nlp.get_pipe('attribute_ruler')\n",
    "    \n",
    "    for word in word_mappings:\n",
    "        ar.add([[{\"TEXT\": word}]], {\"LEMMA\": target_lemma})\n",
    "\n",
    "\n",
    "word_mappings = [\"Bro\", \"Brah\", \"Broski\"]\n",
    "target_lemma = \"Brother\"\n",
    "\n",
    "\n",
    "add_custom_lemmas(nlp, word_mappings, target_lemma)\n",
    "\n",
    "# Test edelim\n",
    "doc = nlp(\"Yo, what's up Bro? How's it going Brah and Broski?\")\n",
    "for token in doc:\n",
    "    print(f\"{token.text} -> {token.lemma_}\")"
   ]
  },
  {
   "cell_type": "code",
   "execution_count": 13,
   "id": "fe5f00ba",
   "metadata": {},
   "outputs": [
    {
     "name": "stdout",
     "output_type": "stream",
     "text": [
      "Aileler olarak çoğu zaman çocuklarımız tarafından teknolojik aletler başta olmak üzere birçok alışveriş baskısı altında kalabiliyoruz. Bu baskıyla almak durumunda kaldığımız ürünlerin başında akıllı saatler geliyor.   Peki ne işe yarar bu akıllı saatler, bize bir faydası var mı? Teknolojik imkanları doğru kullandığımız takdirde bize hizmet eden ürünlere dönüşür.  RitimUS.com ve sosyal medya üzerinden bizi takip edebilir, eğitim içeriklerimize ulaşabilirsiniz.   Daha sonraki yorumlarımda kullanılması için adım, e-posta adresim ve site adresim bu tarayıcıya kaydedilsin. Eğitici zeka oyunları RitimUS’u Google Play ve App Store’dan ücretsiz bir şekilde indirip oynamaya başlayın.  Matematiksel Zeka Oyunları  ile rakamların dünyasına yolculuk yapıyor, matematiğin sevilmeyen bir ders olma tabusunu oyunlaştırma stratejisi ile değiştiriyoruz.  Soyut işlemler içerisinde yer alan matematiğin RitimUS oyunlarıyla somut hale getirilmesi hiç şüphesiz bu öğrenmeyi kolaylaştırmaktadır. Görsel Zeka Oyunları ile çocukların fotografik hafıza becerilerini geliştirmesine olanak sağlayan bir oyun sunuyoruz. Fotografik hafıza becerileri ile zihinsel gelişimlerine katkı sağlıyoruz. Bilgi çağında hızlı bilgi akışı içerisinde birey için önemli olan verilerin alınmasına yönelik zihin süreçlerinin çalışmasıdır. Bu amaçla görsel hafıza becerilerini geliştiriyoruz.  Sözel Zeka Oyunları kelimeler, cümleler, konuşma ve anlama, çıkarım yapma yetilerini içerir. Kelime oyunları, harf sıralamalar, söyleneni ya da yazanı anlayarak problem çözme gerektiren oyunlar ile ilişkili olarak öğrencilerin sözel zekalarının gelişmesine hizmet eder.   İyi bir sözel zekaya sahip bireylerin toplumda kendini daha iyi ifade ettiği, iletişimlerinin daha kuvvetli olduğu görülmüştür.  Ritimler, notalar, sesler, armoniler içerir. Ritim yakalama, ses hafızası, nota eşleme, armoni eşleme, ritim tekrarı gerektiren oyunlar bu zeka türü ile bağlantılıdır. Öğrencileri geleceğe hazırlamak adına geliştirdiğimiz Ritmik Zeka Oyunları ile duyduğunu doğru anlamalarını, doğru yorumlamalarını ve olumlu dönüt vermelerini sağlayacak egzersizler sunuyoruz. Vücut koordinasyonu ve kas hareketi içerir. Dans, el işi, kağıt katlama, el becerisi gerektiren oyunlar bu zeka türü ile bağlantılıdır. Bu oyunlar sayesinde gelişim çağında bulunan ve ince motor becerileri gelişmeye başlayan öğrencilerin kinestetik zekalarına katkı sunmaktayız. Problemde sorun kompleks biçimde ortaya konulmuş, kullanıcının problem öğelerini yaratıcı biçimde kullanarak sorunu çözmesi beklenmektedir. Yeni dünya olaylara yeni bakış açıları getirmeyi başarabilen bireyleri daha değerli kılmaktadır. Biz de oyunlarımız ile bu becerilere sahip olmasını sağlamak adına özel egzersizler hazırladık. Problemde sorun açık biçimde ortaya konulmuş, kullanıcının temel mantık ilişkileri kurarak sorunu çözmesi beklenmektedir. Analitik çözümleme becerisine sahip bireyler karşılaştıkları en karmaşık problemlere dahi çözüm üretebilmekte, bir işe başlamadan önce o işle alakalı zihin şeması çizmeyi başarabilmektedir. Problemde sorun ve çözüm doğrudan birbirine bağlı değildir. Kullanıcının aradaki elementleri belirleyerek sorun ile çözümü bağlaması ve problemi bu şekilde çözmesi beklenmektedir. Disiplinler arası düşünme becerisi olarak da ifade edebileceğimiz yanal düşünme farklı bilim dallarından istifade etmeyi gerektirir. Problem farklı çevrelerde, farklı ortamlarda değişim gösteren, farklı çözüm kümelerine sahip bir problemdir. Kullanıcının ortamı, çevreyi değerlendirerek problemi önce doğru şekilde adapte etmesi ve çözmesi beklenmektedir. Bu sayede öğrencilerin problem çözme becerisi kazanmalarına yönelik oyun içerikleri hazırlayarak hayata karşı daha olumlu bakabilen bir anlayış geliştirmelerini istiyoruz.  Öncelikle kullanıcıya problem olmayan ortamlar sunulur. Kullanıcının bu ortamları incelemesine izin verilir. Sonra ortamdan bir eleman eksiltilerek ya da ortamdaki bir eleman değiştirilerek bir problem yaratılır. Kullanıcının ortamdan edindiği bilgilere dayanarak bu problemi çözmesi beklenir. Bilginin kişilerden ve ortamlardan bağımsız olarak her yerden edinebildiği bu dönemde öğrenme becerilerinin geliştirilmesi bireyin, öğrencinin kendini geliştirmesinin önünü açmaktadır. Eğitici zeka oyunları RitimUS’u Google Play ve App Store’dan ücretsiz bir şekilde indirip oynamaya başlayın.  Önceki kuşakların aksine çocuklarımız teknolojiyle sonradan tanışmadılar. Onlar doğrudan bu teknolojik ortamın içine doğdular ve onunla büyüdüler. Bu süreç onlara farklı alışkanlıklar kazandırdı. En temelde iletişim kurma şekilleri bizimkinden çok farklı. Peki çocuklarımız nasıl iletişim kuruyor? Çocuklarımızı yargılamadan önce onları anlamaya ihtiyacımız var. Onları anladığımız takdirde sevgimizi ve kendimizi en doğru şekilde ifade ederiz. Bizi sosyal medya üzerinden bizi takip edebilir, eğitim içeriklerimize ulaşabilirsiniz.  Daha sonraki yorumlarımda kullanılması için adım, e-posta adresim ve site adresim bu tarayıcıya kaydedilsin. Eğitici zeka oyunları RitimUS’u Google Play ve App Store’dan ücretsiz bir şekilde indirip oynamaya başlayın.  Çocuklarımızın dijital dünyaya meraklı olması, teknolojik aletleri kullanmayı sevmesi beraberinde belli fırsatları da getirir. Ebeveyn olarak bu ilgileri doğru şekilde yönlendirmeyi hiç düşündünüz mü? O halde bu videomuz tam size göre.  Dijital dünyada çocuklarımız normalde birer tüketici durumunda. Üretici konumuna geçmeleri için herhangi bir içerik üretiyor olmaları gerekir. Video çekmek, görsel tasarlamak gibi alanlar buna örnek. Bir de kodlama var.  Evet, çocuklarınız kodlama öğrenerek bir dijital üretici olabilir. Kodlama öğrenmek yeni bir dil öğrenmek aslında. Özellikle gelişme çağında olan çocuklar için bu güzel bir imkan. Peki kodlama öğrenmek çocuklarımıza ne katar? Çocuklarınızı geleceğin dünyasına hazırlamak ancak geleceğin dünyasının enstrümanları ile mümkün. Onları geleceğe en iyi şekilde hazırlamak istediğinizi biliyoruz. Bunun için çağın sesine kulak verelim.  RitimUS.com ve sosyal medya üzerinden bizi takip edebilir, eğitim içeriklerimize ulaşabilirsiniz.   Daha sonraki yorumlarımda kullanılması için adım, e-posta adresim ve site adresim bu tarayıcıya kaydedilsin. Eğitici zeka oyunları RitimUS’u Google Play ve App Store’dan ücretsiz bir şekilde indirip oynamaya başlayın.  Eğitici zeka oyunları RitimUS’u Google Play ve App Store’dan ücretsiz bir şekilde indirip oynamaya başlayın.  Türkiye’nin eğitim süreçlerine katkı sunmak amacıyla RitimUS için okullara özel, kurumsal modül geliştirdik. Öğretmenlerin öğrencileri için eğlenceli bir öğrenme ortamı sağlayacağı bu modülde çok sayıda özellik bulunmaktadır RitimUS oyunları zeka türlerinin yanında eğitim süreçleri de dikkate alarak hazırlanmıştır. Yıl içerisinde işlenen dersler ile entegre oyunlar ile öğretim programına dahil edilebilir niteliktedir. RitimUS Kurumsal Modül nasıl bir yapıya sahiptir? ile öğrenciyi merkeze alarak gelişimini takip edebilecekleri bir imkan sunuyoruz. Eğitici zeka oyunları RitimUS’u Google Play ve App Store’dan ücretsiz bir şekilde indirip oynamaya başlayın.  Aileler olarak çoğu zaman çocuklarımız tarafından teknolojik aletler başta olmak üzere birçok alışveriş baskısı altında kalabiliyoruz. Bu baskıyla almak durumunda kaldığımız ürünlerin başında akıllı saatler geliyor. Çocuklarımızın dijital dünyaya meraklı olması, teknolojik aletleri kullanmayı sevmesi beraberinde belli fırsatları da getirir. Ebeveyn olarak bu ilgileri doğru şekilde yönlendirmeyi hiç düşündünüz mü? O halde bu videomuz tam size göre. Önceki kuşakların aksine çocuklarımız teknolojiyle sonradan tanışmadılar. Onlar doğrudan bu teknolojik ortamın içine doğdular ve onunla büyüdüler. Bu süreç onlara farklı alışkanlıklar kazandırdı. En temelde iletişim kurma şekilleri bizimkinden çok farklı.  Yapılan araştırmalar çocukların henüz bebeklik döneminden itibaren teknolojiyle etkileşime girdiğini gösteriyor. Doğrudan bir etkileşim olmasa bile dolaylı yoldan bir etkilenme var. Evde açık olan televizyon bile bu etkileşime dâhil. Teknoloji çağında yaşayan çocuklara nasıl anne ve baba olmalıyız? Ebeveyn ve çocuk ilişkisinin en problemli noktası iletişim desek yanlış olmaz. Kimi zaman nesiller arası farklar kimi zaman hayat tarzları bu iletişimi zorlaştıran etkenler olarak karşımıza çıkar. En kötüsü iletişimin kopması, çocuğa ulaşamamak olsa gerek. Teknoloji alanında her gün yeni bir ürün ortaya çıkıyor. Her ürün adıyla dünyaya yayılırken bu da ister istemez dilimize yansıyor. Bilişim çağında yaşayan çocuklarımız da bu durumdan doğrudan etkilenir hâle geldi Çocukları internet bağımlılığına karşı koruyan en önemli faktör aile bağlarıdır. Aile bireylerinin maddi ve manevi anlamda sağlıklı olması aileyi doğrudan etkiler. Aile içerisinde bir kişide bile problem olması ailenin huzurunu bozmaya fazlasıyla yeterli olacaktır. Bu huzursuzluk hâli dışarıya da yansır.  Pandemi süreciyle birlikte uzaktan eğitim hayatımızın bir gerçeği oldu. Yüz yüze eğitimden farklı olduğu için bazı alışkanlıklarımızı da değiştirdi. Tablet, telefon, bilgisayar ve internet kullanımı arttı. Uzaktan eğitimle birlikte çocuklarımız da farklı bir süreç yaşadılar. Her anne ve baba çocuklarının iyi ve başarılı bireyler olmasını ister. Peki, bunu sağlamak adına ebeveynlere düşen görevler nelerdir? Nasıl bir yol haritası izlemek gerek?  Çocukların gelişimlerini etkileyen faktörlerin başında teknoloji gelir. Çocuklar telefon tablet gibi araçlar ile çok fazla vakit geçiriyor. Bu vakit uzadığı zaman ister istemez çeşitli sorunları da beraberinde getiriyor. Eğitici zeka oyunları RitimUS’u Google Play ve App Store’dan ücretsiz bir şekilde indirip oynamaya başlayın.  Eğitici zeka oyunları RitimUS’u Google Play ve App Store’dan ücretsiz bir şekilde indirip oynamaya başlayın.    Gönder Eğitici zeka oyunları RitimUS’u Google Play ve App Store’dan ücretsiz bir şekilde indirip oynamaya başlayın.  Her çocuk özeldir ve onu özel kılan yeteneklere sahiptir. Bu yetenekleri oyunlar ile ortaya çıkaran ve geliştiren RitimUS Çocuk Eğitim Platformu geleceğin iyi ve başarılı çocuklarının yetişmesi adına eğitim dünyasındaki yerini almıştır. Eğitici zeka oyunları RitimUS’u Google Play ve App Store’dan ücretsiz bir şekilde indirip oynamaya başlayın.  Aileler olarak çoğu zaman çocuklarımız tarafından teknolojik aletler başta olmak üzere birçok alışveriş baskısı altında kalabiliyoruz. Bu baskıyla almak durumunda kaldığımız ürünlerin başında akıllı saatler geliyor. Çocuklarımızın dijital dünyaya meraklı olması, teknolojik aletleri kullanmayı sevmesi beraberinde belli fırsatları da getirir. Ebeveyn olarak bu ilgileri doğru şekilde yönlendirmeyi hiç düşündünüz mü? O halde bu videomuz tam size göre. Önceki kuşakların aksine çocuklarımız teknolojiyle sonradan tanışmadılar. Onlar doğrudan bu teknolojik ortamın içine doğdular ve onunla büyüdüler. Bu süreç onlara farklı alışkanlıklar kazandırdı. En temelde iletişim kurma şekilleri bizimkinden çok farklı.  Yapılan araştırmalar çocukların henüz bebeklik döneminden itibaren teknolojiyle etkileşime girdiğini gösteriyor. Doğrudan bir etkileşim olmasa bile dolaylı yoldan bir etkilenme var. Evde açık olan televizyon bile bu etkileşime dâhil. Teknoloji çağında yaşayan çocuklara nasıl anne ve baba olmalıyız? Ebeveyn ve çocuk ilişkisinin en problemli noktası iletişim desek yanlış olmaz. Kimi zaman nesiller arası farklar kimi zaman hayat tarzları bu iletişimi zorlaştıran etkenler olarak karşımıza çıkar. En kötüsü iletişimin kopması, çocuğa ulaşamamak olsa gerek. Teknoloji alanında her gün yeni bir ürün ortaya çıkıyor. Her ürün adıyla dünyaya yayılırken bu da ister istemez dilimize yansıyor. Bilişim çağında yaşayan çocuklarımız da bu durumdan doğrudan etkilenir hâle geldi Çocukları internet bağımlılığına karşı koruyan en önemli faktör aile bağlarıdır. Aile bireylerinin maddi ve manevi anlamda sağlıklı olması aileyi doğrudan etkiler. Aile içerisinde bir kişide bile problem olması ailenin huzurunu bozmaya fazlasıyla yeterli olacaktır. Bu huzursuzluk hâli dışarıya da yansır.  Pandemi süreciyle birlikte uzaktan eğitim hayatımızın bir gerçeği oldu. Yüz yüze eğitimden farklı olduğu için bazı alışkanlıklarımızı da değiştirdi. Tablet, telefon, bilgisayar ve internet kullanımı arttı. Uzaktan eğitimle birlikte çocuklarımız da farklı bir süreç yaşadılar. Her anne ve baba çocuklarının iyi ve başarılı bireyler olmasını ister. Peki, bunu sağlamak adına ebeveynlere düşen görevler nelerdir? Nasıl bir yol haritası izlemek gerek?  Çocukların gelişimlerini etkileyen faktörlerin başında teknoloji gelir. Çocuklar telefon tablet gibi araçlar ile çok fazla vakit geçiriyor. Bu vakit uzadığı zaman ister istemez çeşitli sorunları da beraberinde getiriyor. Eğitici zeka oyunları RitimUS’u Google Play ve App Store’dan ücretsiz bir şekilde indirip oynamaya başlayın.  We're sorry, but the page you requested can't be found. Homepage\n",
      " Eğitici zeka oyunları RitimUS’u Google Play ve App Store’dan ücretsiz bir şekilde indirip oynamaya başlayın.  Eğitici zeka oyunları RitimUS’u Google Play ve App Store’dan ücretsiz bir şekilde indirip oynamaya başlayın.   Aileler olarak çoğu zaman çocuklarımız tarafından teknolojik aletler başta olmak üzere birçok alışveriş baskısı altında kalabiliyoruz. Bu baskıyla almak durumunda kaldığımız ürünlerin başında akıllı saatler geliyor. Çocuklarımızın dijital dünyaya meraklı olması, teknolojik aletleri kullanmayı sevmesi beraberinde belli fırsatları da getirir. Ebeveyn olarak bu ilgileri doğru şekilde yönlendirmeyi hiç düşündünüz mü? O halde bu videomuz tam size göre. Önceki kuşakların aksine çocuklarımız teknolojiyle sonradan tanışmadılar. Onlar doğrudan bu teknolojik ortamın içine doğdular ve onunla büyüdüler. Bu süreç onlara farklı alışkanlıklar kazandırdı. En temelde iletişim kurma şekilleri bizimkinden çok farklı.  Her çocuğun eğitimde fırsat eşitliğine sahip olarak RitimUS oyunlarını oynama özgürlüğü ve hakkı vardır. Bu amaçla okul öncesi ve ilkokul öğrencileri için 10 farklı alanda 80+ oyun ve 1600+ hazırladık ve bu oyunlara yenilerine ekleyerek devam etmekteyiz. \n",
      "Oyunları eğlenceli hâle getirdiğimiz Avatar ile oyunlarda kazanılan puanlar burada kullanılmaktadır. Tüm oyunların sonucunda öğrencilerin gelişim raporları uygulama içerisinde paylaşılmaktadır.  Teknolojik bir dünyanın içerisinde doğup büyüyen çocuklarımız için dijital oyunlar oynamak kaçınılmazdır. Ebeveynler olarak bu oyunların içeriği bizi her zaman düşündürmüş ve tereddüde düşürmüştür. Pedagojik sertifikalı RitimUS oyunları ise bu tarz tereddütleri zihinlerden alıp götürüyor. Çocuklarımız için güvenli bir oyun sahası görmek huzur verici. Küçük yaştaki çocuklar büyük ağabey ve ablaları gibi uzun süre masa başında oturarak ders çalışmaktan pek hoşlanmayabilirler. Öte yandan bekleyen dersler vardır. Toplama çıkarma işlemlerinin öğrenilmesi gerekir mesela. Eskiden fasulyeler vardı, bunlarla toplama çıkarma öğretilirdi. Şimdi bunun modernize edilmiş ve çok daha eğlenceli halini düşünün. RitimUS çocuklara bu işlemleri oyunlar ile yaptırmakta. Sadece matematik becerisi değil, içerisinde dil ve müzik becerilerine katkı sunacak oyunlar da mevcut. Uzaktan eğitim süreci bize gösterdi ki yüz yüze eğitimin haricinde bilgi ve becerilerimizi geliştirebileceğimiz farklı enstrüman ve ortamlar mevcut. Bir çocuğa dersini yap dediğinizde bu bazen onun için sıkıcı olabiliyor. Fakat şimdi oyun oynayabilirsin dediğinde adeta havalara uçuyor. RitimUS bu problemi keşfedip ikisini birleştirmeyi başarabilmiş bir uygulama. İçerisindeki oyunlar bir ders değil fakat derslerde öğrenilen bilgi ve becerilerden daha fazlasını çocuklarımıza kazandırıyor. Tam bir ekip çalışması. Yıllardır eğitim camiasında çocuklarımıza matematiği nasıl sevdirebiliriz diye tartışıyoruz. Bununla ilgili birçok yöntem denendi ve bazıları başarılı da oldu. RitimUS’u oynayan öğrencilerin akademik gelişimlerini takip ettiğimizde matematik becerilerinin arttığını gözlemledik. RitimUS içerisinde yer alan raporlama bölümü de oyunlar neticesinde çocuğa sağladığı katkıyı bize sunmaktadır. Uzman Görüşü Küçük yaştaki çocuklar büyük ağabey ve ablaları gibi uzun süre masa başında oturarak ders çalışmaktan pek hoşlanmayabilirler. Öte yandan bekleyen dersler vardır. Toplama çıkarma işlemlerinin öğrenilmesi gerekir mesela. Eskiden fasulyeler vardı, bunlarla toplama çıkarma öğretilirdi. Şimdi bunun modernize edilmiş ve çok daha eğlenceli halini düşünün. RitimUS çocuklara bu işlemleri oyunlar ile yaptırmakta. Sadece matematik becerisi değil, içerisinde dil ve müzik becerilerine katkı sunacak oyunlar da mevcut. \n",
      "Kaydol Leave this field empty if you're human:  Eğitici zeka oyunları RitimUS’u Google Play ve App Store’dan ücretsiz bir şekilde indirip oynamaya başlayın.   Aileler olarak çoğu zaman çocuklarımız tarafından teknolojik aletler başta olmak üzere birçok alışveriş baskısı altında kalabiliyoruz. Bu baskıyla almak durumunda kaldığımız ürünlerin başında akıllı saatler geliyor. Çocuklarımızın dijital dünyaya meraklı olması, teknolojik aletleri kullanmayı sevmesi beraberinde belli fırsatları da getirir. Ebeveyn olarak bu ilgileri doğru şekilde yönlendirmeyi hiç düşündünüz mü? O halde bu videomuz tam size göre. Önceki kuşakların aksine çocuklarımız teknolojiyle sonradan tanışmadılar. Onlar doğrudan bu teknolojik ortamın içine doğdular ve onunla büyüdüler. Bu süreç onlara farklı alışkanlıklar kazandırdı. En temelde iletişim kurma şekilleri bizimkinden çok farklı.  Her çocuğun eğitimde fırsat eşitliğine sahip olarak RitimUS oyunlarını oynama özgürlüğü ve hakkı vardır. Bu amaçla okul öncesi ve ilkokul öğrencileri için 10 farklı alanda 80+ oyun ve 1600+ hazırladık ve bu oyunlara yenilerine ekleyerek devam etmekteyiz. \n",
      "Oyunları eğlenceli hâle getirdiğimiz Avatar ile oyunlarda kazanılan puanlar burada kullanılmaktadır. Tüm oyunların sonucunda öğrencilerin gelişim raporları uygulama içerisinde paylaşılmaktadır.  Teknolojik bir dünyanın içerisinde doğup büyüyen çocuklarımız için dijital oyunlar oynamak kaçınılmazdır. Ebeveynler olarak bu oyunların içeriği bizi her zaman düşündürmüş ve tereddüde düşürmüştür. Pedagojik sertifikalı RitimUS oyunları ise bu tarz tereddütleri zihinlerden alıp götürüyor. Çocuklarımız için güvenli bir oyun sahası görmek huzur verici. Küçük yaştaki çocuklar büyük ağabey ve ablaları gibi uzun süre masa başında oturarak ders çalışmaktan pek hoşlanmayabilirler. Öte yandan bekleyen dersler vardır. Toplama çıkarma işlemlerinin öğrenilmesi gerekir mesela. Eskiden fasulyeler vardı, bunlarla toplama çıkarma öğretilirdi. Şimdi bunun modernize edilmiş ve çok daha eğlenceli halini düşünün. RitimUS çocuklara bu işlemleri oyunlar ile yaptırmakta. Sadece matematik becerisi değil, içerisinde dil ve müzik becerilerine katkı sunacak oyunlar da mevcut. Uzaktan eğitim süreci bize gösterdi ki yüz yüze eğitimin haricinde bilgi ve becerilerimizi geliştirebileceğimiz farklı enstrüman ve ortamlar mevcut. Bir çocuğa dersini yap dediğinizde bu bazen onun için sıkıcı olabiliyor. Fakat şimdi oyun oynayabilirsin dediğinde adeta havalara uçuyor. RitimUS bu problemi keşfedip ikisini birleştirmeyi başarabilmiş bir uygulama. İçerisindeki oyunlar bir ders değil fakat derslerde öğrenilen bilgi ve becerilerden daha fazlasını çocuklarımıza kazandırıyor. Tam bir ekip çalışması. Yıllardır eğitim camiasında çocuklarımıza matematiği nasıl sevdirebiliriz diye tartışıyoruz. Bununla ilgili birçok yöntem denendi ve bazıları başarılı da oldu. RitimUS’u oynayan öğrencilerin akademik gelişimlerini takip ettiğimizde matematik becerilerinin arttığını gözlemledik. RitimUS içerisinde yer alan raporlama bölümü de oyunlar neticesinde çocuğa sağladığı katkıyı bize sunmaktadır. Uzman Görüşü Küçük yaştaki çocuklar büyük ağabey ve ablaları gibi uzun süre masa başında oturarak ders çalışmaktan pek hoşlanmayabilirler. Öte yandan bekleyen dersler vardır. Toplama çıkarma işlemlerinin öğrenilmesi gerekir mesela. Eskiden fasulyeler vardı, bunlarla toplama çıkarma öğretilirdi. Şimdi bunun modernize edilmiş ve çok daha eğlenceli halini düşünün. RitimUS çocuklara bu işlemleri oyunlar ile yaptırmakta. Sadece matematik becerisi değil, içerisinde dil ve müzik becerilerine katkı sunacak oyunlar da mevcut. \n",
      "Kaydol Leave this field empty if you're human:  Eğitici zeka oyunları RitimUS’u Google Play ve App Store’dan ücretsiz bir şekilde indirip oynamaya başlayın. \n"
     ]
    }
   ],
   "source": [
    "print(webden_texti_cek(\"https://ritimus.com/\")) #Zaim teknoparktaki başka bir şirket"
   ]
  },
  {
   "cell_type": "code",
   "execution_count": 131,
   "id": "e797935f",
   "metadata": {},
   "outputs": [],
   "source": [
    "digieye_textim = webden_texti_cek(\"https://digieye.ai/\")\n",
    "ritimus_textim = webden_texti_cek(\"https://ritimus.com/\")"
   ]
  },
  {
   "cell_type": "code",
   "execution_count": 132,
   "id": "ee53cb37",
   "metadata": {},
   "outputs": [
    {
     "data": {
      "text/plain": [
       "['Our Valuable Customer & Partners Our Valuable Customer & Partners Contact us to seek answers for your product-related questions or schedule demos.',\n",
       " 'Explore job possibilities and join our team to help us achieve it.',\n",
       " 'Great people deserve great benefits Continuous learning, mentorship, career growth Flexibility, remote work for\\u2028well-being You know what you need to do and when it needs to be It’s a philosophy of freely sharing information in the workplace in a way that benefits the organization and its people.',\n",
       " 'Hybrid |\\xa0Istanbul, Turkey Hybrid |\\xa0Istanbul, Turkey The powerful cpu has 1 us cycle time.',\n",
       " 'Also it has Ethernet/IP communication for data collecting.',\n",
       " 'IO-Box Exp-AN module has 24 isolated analog inputs.',\n",
       " 'IO-Box Exp-IO module has 16 isolated digital inputs and 16 isolated digital output.',\n",
       " 'After training the model on DigiLab easily, just needed to click the “Upload” button to run the real-time inferencing on DL-Box that is edge AI device.',\n",
       " 'DL-Box is fully integrated with the no-code AI platform DigiLab.',\n",
       " 'DLaaS (Deep Learning as a Service) is a new service methods for AI tasks.',\n",
       " 'DL-Box can be used as API service with any server or devices.',\n",
       " 'DL-Box is an “Edge AI Device” equipped with powerful Nvidia GPUs and CPUs that allow you to run your image processing and artificial intelligence applications in real-time.',\n",
       " 'DigiEye founded powered by knowledge and experience in the fields of ‘Industry 4.0(IoT), Image Processing and Artificial Intelligence’.',\n",
       " 'DigiEye has over than ten years of experience in the industry has successfully developed products and activities in the fields of software, digitalization, electronic systems, optical systems, image processing and artificial intelligence.',\n",
       " 'Continuing to work with the lead companies of the industry, DigiEye produces technology to implement new products with innovative thinking.',\n",
       " 'To provide technology with innovative thinking to every person and organization on the world for digitalization of business, home and life.',\n",
       " 'Providing user convenience at every stage of digitalization.',\n",
       " 'Empowering success through partnerships with our diverse and esteemed clientele.',\n",
       " 'Data collecting, training and real-time implementation is so easy with No-Code AI Platform “DigiLab”.',\n",
       " 'Q-Cam-Lite camera is suitable for multiple tasks with multiple cameras applications.',\n",
       " 'DL-Box can works with up to\\xa0 4 pcs.',\n",
       " 'Q-Cam-Lite cameras.',\n",
       " 'Q-Cam-Lite has powerful vision processors for multiple tasks.',\n",
       " 'QCam-S is an industrial-grade smart camera that houses a artificial intelligence processor and image sensor.',\n",
       " 'The Q-Cam smart camera facilitates the implementation of artificial intelligence-based machine vision application in various industries with its different lens and light source options.',\n",
       " 'Fully Integrated with the No-Code image processing and artificial intelligence platform DigiLab, Q-Cam-S provides ease of use and fast application deployment.',\n",
       " 'DigiLab IoT is fully integrated with IO-Box for real-time data collecting.',\n",
       " 'After connecting the sensors to IO-Box as plug and play.',\n",
       " 'DigiLab IoT will start to show the sensors on the main screen and collect the data.',\n",
       " 'Drag & Drop the data and select graphic types to main dashboard for visualizing the sensors that shown on left side of ui easily.',\n",
       " 'DigiLab IoT saves all of data from sensors that is connected.',\n",
       " 'You can see all of data on Record Page and create an event for conditions.',\n",
       " 'If you have your dataset import it easily to DigiLab.',\n",
       " 'If not, you can collect it with Q-Cam that is integrated with DigiLab.',\n",
       " 'Labelling and anotation has never been easier with Digilab.',\n",
       " 'You can use the smart and user-friendly DigiLab tools to make it faster!',\n",
       " 'To train dataset only needed to click “Train” button on the DigiLab.',\n",
       " 'It will set everything for you without code.',\n",
       " 'Then, to upload new trained AI model to DL-Box (Edge AI Device) or to Q-Cam-S (Smart Camera with built-in AI) you just click the “Download” button .',\n",
       " 'Our Valuable Customer & Partners']"
      ]
     },
     "execution_count": 132,
     "metadata": {},
     "output_type": "execute_result"
    }
   ],
   "source": [
    "from nltk.tokenize import sent_tokenize\n",
    "\n",
    "sent_tokenize(digieye_textim) "
   ]
  },
  {
   "cell_type": "markdown",
   "id": "2b821550",
   "metadata": {},
   "source": [
    "# Appliying All Steps To Our Data"
   ]
  },
  {
   "cell_type": "code",
   "execution_count": 133,
   "id": "8b273ef3",
   "metadata": {},
   "outputs": [],
   "source": [
    "# Web Scraping\n",
    "\n",
    "digieyeTextim = webden_texti_cek(\"https://digieye.ai/\")\n",
    "digieyeTextimForTesting = webden_texti_cek(\"https://digieye.ai/\")"
   ]
  },
  {
   "cell_type": "code",
   "execution_count": 134,
   "id": "4c6ffba3",
   "metadata": {},
   "outputs": [
    {
     "data": {
      "text/plain": [
       "'our valuable customer & partners our valuable customer & partners contact us to seek answers for your product-related questions or schedule demos. explore job possibilities and join our team to help us achieve it. great people deserve great benefits continuous learning, mentorship, career growth flexibility, remote work for\\u2028well-being you know what you need to do and when it needs to be it’s a philosophy of freely sharing information in the workplace in a way that benefits the organization and its people. hybrid |\\xa0istanbul, turkey hybrid |\\xa0istanbul, turkey the powerful cpu has 1 us cycle time. also it has ethernet/ip communication for data collecting. io-box exp-an module has 24 isolated analog inputs. io-box exp-io module has 16 isolated digital inputs and 16 isolated digital output. after training the model on digilab easily, just needed to click the “upload” button to run the real-time inferencing on dl-box that is edge ai device. dl-box is fully integrated with the no-code ai platform digilab. dlaas (deep learning as a service) is a new service methods for ai tasks. dl-box can be used as api service with any server or devices. dl-box is an “edge ai device” equipped with powerful nvidia gpus and cpus that allow you to run your image processing and artificial intelligence applications in real-time. digieye founded powered by knowledge and experience in the fields of ‘industry 4.0(iot), image processing and artificial intelligence’. digieye has over than ten years of experience in the industry has successfully developed products and activities in the fields of software, digitalization, electronic systems, optical systems, image processing and artificial intelligence.\\xa0 continuing to work with the lead companies of the industry, digieye produces technology to implement new products with innovative thinking. to provide technology with innovative thinking to every person and organization on the world for digitalization of business, home and life. providing user convenience at every stage of digitalization. empowering success through partnerships with our diverse and esteemed clientele. data collecting, training and real-time implementation is so easy with no-code ai platform “digilab”. q-cam-lite camera is suitable for multiple tasks with multiple cameras applications.\\xa0 dl-box can works with up to\\xa0 4 pcs. q-cam-lite cameras. \\xa0 q-cam-lite has powerful vision processors for multiple tasks.\\xa0 qcam-s is an industrial-grade smart camera that houses a artificial intelligence processor and image sensor. \\xa0 the q-cam smart camera facilitates the implementation of artificial intelligence-based machine vision application in various industries with its different lens and light source options. fully integrated with the no-code image processing and artificial intelligence platform digilab, q-cam-s provides ease of use and fast application deployment. digilab iot is fully integrated with io-box for real-time data collecting. after connecting the sensors to io-box as plug and play. digilab iot will start to show the sensors on the main screen and collect the data. drag & drop the data and select graphic types to main dashboard for visualizing the sensors that shown on left side of ui easily. digilab iot saves all of data from sensors that is connected. you can see all of data on record page and create an event for conditions. if you have your dataset import it easily to digilab. if not, you can collect it with q-cam that is integrated with digilab. labelling and anotation has never been easier with digilab. you can use the smart and user-friendly digilab tools to make it faster! to train dataset only needed to click “train” button on the digilab. it will set everything for you without code. then, to upload new trained ai model to dl-box (edge ai device) or to q-cam-s (smart camera with built-in ai) you just click the “download” button . our valuable customer & partners'"
      ]
     },
     "execution_count": 134,
     "metadata": {},
     "output_type": "execute_result"
    }
   ],
   "source": [
    "# Lowercasing \n",
    "\n",
    "digieyeTextimForTesting = lowercasing(digieyeTextimForTesting) \n",
    "digieyeTextimForTesting"
   ]
  },
  {
   "cell_type": "code",
   "execution_count": 135,
   "id": "6b2af64f",
   "metadata": {},
   "outputs": [
    {
     "data": {
      "text/plain": [
       "'our valuable customer  partners our valuable customer  partners contact us to seek answers for your productrelated questions or schedule demos explore job possibilities and join our team to help us achieve it great people deserve great benefits continuous learning mentorship career growth flexibility remote work for\\u2028wellbeing you know what you need to do and when it needs to be it’s a philosophy of freely sharing information in the workplace in a way that benefits the organization and its people hybrid \\xa0istanbul turkey hybrid \\xa0istanbul turkey the powerful cpu has 1 us cycle time also it has ethernetip communication for data collecting iobox expan module has 24 isolated analog inputs iobox expio module has 16 isolated digital inputs and 16 isolated digital output after training the model on digilab easily just needed to click the “upload” button to run the realtime inferencing on dlbox that is edge ai device dlbox is fully integrated with the nocode ai platform digilab dlaas deep learning as a service is a new service methods for ai tasks dlbox can be used as api service with any server or devices dlbox is an “edge ai device” equipped with powerful nvidia gpus and cpus that allow you to run your image processing and artificial intelligence applications in realtime digieye founded powered by knowledge and experience in the fields of ‘industry 40iot image processing and artificial intelligence’ digieye has over than ten years of experience in the industry has successfully developed products and activities in the fields of software digitalization electronic systems optical systems image processing and artificial intelligence\\xa0 continuing to work with the lead companies of the industry digieye produces technology to implement new products with innovative thinking to provide technology with innovative thinking to every person and organization on the world for digitalization of business home and life providing user convenience at every stage of digitalization empowering success through partnerships with our diverse and esteemed clientele data collecting training and realtime implementation is so easy with nocode ai platform “digilab” qcamlite camera is suitable for multiple tasks with multiple cameras applications\\xa0 dlbox can works with up to\\xa0 4 pcs qcamlite cameras \\xa0 qcamlite has powerful vision processors for multiple tasks\\xa0 qcams is an industrialgrade smart camera that houses a artificial intelligence processor and image sensor \\xa0 the qcam smart camera facilitates the implementation of artificial intelligencebased machine vision application in various industries with its different lens and light source options fully integrated with the nocode image processing and artificial intelligence platform digilab qcams provides ease of use and fast application deployment digilab iot is fully integrated with iobox for realtime data collecting after connecting the sensors to iobox as plug and play digilab iot will start to show the sensors on the main screen and collect the data drag  drop the data and select graphic types to main dashboard for visualizing the sensors that shown on left side of ui easily digilab iot saves all of data from sensors that is connected you can see all of data on record page and create an event for conditions if you have your dataset import it easily to digilab if not you can collect it with qcam that is integrated with digilab labelling and anotation has never been easier with digilab you can use the smart and userfriendly digilab tools to make it faster to train dataset only needed to click “train” button on the digilab it will set everything for you without code then to upload new trained ai model to dlbox edge ai device or to qcams smart camera with builtin ai you just click the “download” button  our valuable customer  partners'"
      ]
     },
     "execution_count": 135,
     "metadata": {},
     "output_type": "execute_result"
    }
   ],
   "source": [
    "# Removing Punctuation\n",
    "\n",
    "digieyeTextimForTesting = remove_punc(digieyeTextimForTesting)\n",
    "digieyeTextimForTesting"
   ]
  },
  {
   "cell_type": "code",
   "execution_count": 136,
   "id": "6a6058e1",
   "metadata": {},
   "outputs": [
    {
     "data": {
      "text/plain": [
       "'valuable customer partners valuable customer partners contact us seek answers productrelated questions schedule demos explore job possibilities join team help us achieve great people deserve great benefits continuous learning mentorship career growth flexibility remote work wellbeing know need needs it’s philosophy freely sharing information workplace way benefits organization people hybrid istanbul turkey hybrid istanbul turkey powerful cpu 1 us cycle time also ethernetip communication data collecting iobox expan module 24 isolated analog inputs iobox expio module 16 isolated digital inputs 16 isolated digital output training model digilab easily needed click “upload” button run realtime inferencing dlbox edge ai device dlbox fully integrated nocode ai platform digilab dlaas deep learning service new service methods ai tasks dlbox used api service server devices dlbox “edge ai device” equipped powerful nvidia gpus cpus allow run image processing artificial intelligence applications realtime digieye founded powered knowledge experience fields ‘industry 40iot image processing artificial intelligence’ digieye ten years experience industry successfully developed products activities fields software digitalization electronic systems optical systems image processing artificial intelligence continuing work lead companies industry digieye produces technology implement new products innovative thinking provide technology innovative thinking every person organization world digitalization business home life providing user convenience every stage digitalization empowering success partnerships diverse esteemed clientele data collecting training realtime implementation easy nocode ai platform “digilab” qcamlite camera suitable multiple tasks multiple cameras applications dlbox works 4 pcs qcamlite cameras qcamlite powerful vision processors multiple tasks qcams industrialgrade smart camera houses artificial intelligence processor image sensor qcam smart camera facilitates implementation artificial intelligencebased machine vision application various industries different lens light source options fully integrated nocode image processing artificial intelligence platform digilab qcams provides ease use fast application deployment digilab iot fully integrated iobox realtime data collecting connecting sensors iobox plug play digilab iot start show sensors main screen collect data drag drop data select graphic types main dashboard visualizing sensors shown left side ui easily digilab iot saves data sensors connected see data record page create event conditions dataset import easily digilab collect qcam integrated digilab labelling anotation never easier digilab use smart userfriendly digilab tools make faster train dataset needed click “train” button digilab set everything without code upload new trained ai model dlbox edge ai device qcams smart camera builtin ai click “download” button valuable customer partners'"
      ]
     },
     "execution_count": 136,
     "metadata": {},
     "output_type": "execute_result"
    }
   ],
   "source": [
    "# Removing Stopwords\n",
    "\n",
    "digieyeTextimForTesting = remove_stopwords(digieyeTextimForTesting)\n",
    "digieyeTextimForTesting"
   ]
  },
  {
   "cell_type": "code",
   "execution_count": 137,
   "id": "1129806c",
   "metadata": {},
   "outputs": [
    {
     "data": {
      "text/plain": [
       "'valuable customer partners valuable customer partners contact us seek answers productrelated questions schedule demos explore job possibilities join team help us achieve great people deserve great benefits continuous learning mentorship career growth flexibility remote work wellbeing know need needs it ’s philosophy freely sharing information workplace way benefits organization people hybrid istanbul turkey hybrid istanbul turkey powerful cpu 1 us cycle time also ethernetip communication data collecting iobox expan module 24 isolated analog inputs iobox expio module 16 isolated digital inputs 16 isolated digital output training model digilab easily needed click “ upload ” button run realtime inferencing dlbox edge ai device dlbox fully integrated nocode ai platform digilab dlaas deep learning service new service methods ai tasks dlbox used api service server devices dlbox “ edge ai device ” equipped powerful nvidia gpus cpus allow run image processing artificial intelligence applications realtime digieye founded powered knowledge experience fields ‘ industry 40iot image processing artificial intelligence ’ digieye ten years experience industry successfully developed products activities fields software digitalization electronic systems optical systems image processing artificial intelligence continuing work lead companies industry digieye produces technology implement new products innovative thinking provide technology innovative thinking every person organization world digitalization business home life providing user convenience every stage digitalization empowering success partnerships diverse esteemed clientele data collecting training realtime implementation easy nocode ai platform “ digilab ” qcamlite camera suitable multiple tasks multiple cameras applications dlbox works 4 pcs qcamlite cameras qcamlite powerful vision processors multiple tasks qcams industrialgrade smart camera houses artificial intelligence processor image sensor qcam smart camera facilitates implementation artificial intelligencebased machine vision application various industries different lens light source options fully integrated nocode image processing artificial intelligence platform digilab qcams provides ease use fast application deployment digilab iot fully integrated iobox realtime data collecting connecting sensors iobox plug play digilab iot start show sensors main screen collect data drag drop data select graphic types main dashboard visualizing sensors shown left side ui easily digilab iot saves data sensors connected see data record page create event conditions dataset import easily digilab collect qcam integrated digilab labelling anotation never easier digilab use smart userfriendly digilab tools make faster train dataset needed click “ train ” button digilab set everything without code upload new trained ai model dlbox edge ai device qcams smart camera builtin ai click “ download ” button valuable customer partners'"
      ]
     },
     "execution_count": 137,
     "metadata": {},
     "output_type": "execute_result"
    }
   ],
   "source": [
    "# Tokenization\n",
    "\n",
    "digieyeTextimForTesting = Tokenize_Text(digieyeTextimForTesting)\n",
    "digieyeTextimForTesting"
   ]
  },
  {
   "cell_type": "code",
   "execution_count": 138,
   "id": "a863f535",
   "metadata": {},
   "outputs": [
    {
     "data": {
      "text/plain": [
       "'valuable customer partner valuable customer partner contact we seek answer productrelate question schedule demos explore job possibility join team help we achieve great people deserve great benefit continuous learn mentorship career growth flexibility remote work wellbeing know need need it ’ philosophy freely share information workplace way benefit organization people hybrid istanbul turkey hybrid istanbul turkey powerful cpu 1 us cycle time also ethernetip communication datum collect iobox expan module 24 isolated analog input iobox expio module 16 isolate digital input 16 isolate digital output training model digilab easily need click \" upload \" button run realtime inference dlbox edge ai device dlbox fully integrate nocode ai platform digilab dlaas deep learn service new service method ai task dlbox use api service server device dlbox \" edge ai device \" equip powerful nvidia gpus cpus allow run image process artificial intelligence application realtime digieye found powered knowledge experience field \\' industry 40iot image process artificial intelligence \\' digieye ten year experience industry successfully develop product activity field software digitalization electronic system optical system image process artificial intelligence continue work lead company industry digieye produce technology implement new product innovative thinking provide technology innovative thinking every person organization world digitalization business home life provide user convenience every stage digitalization empower success partnership diverse esteemed clientele datum collect train realtime implementation easy nocode ai platform \" digilab \" qcamlite camera suitable multiple task multiple camera application dlbox work 4 pc qcamlite camera qcamlite powerful vision processor multiple task qcam industrialgrade smart camera house artificial intelligence processor image sensor qcam smart camera facilitate implementation artificial intelligencebased machine vision application various industry different lens light source option fully integrate nocode image process artificial intelligence platform digilab qcam provide ease use fast application deployment digilab iot fully integrate iobox realtime datum collect connect sensor iobox plug play digilab iot start show sensor main screen collect datum drag drop datum select graphic type main dashboard visualize sensor show leave side ui easily digilab iot save data sensor connect see data record page create event condition dataset import easily digilab collect qcam integrate digilab labelling anotation never easy digilab use smart userfriendly digilab tool make fast train dataset need click \" train \" button digilab set everything without code upload new train ai model dlbox edge ai device qcam smart camera builtin ai click \" download \" button valuable customer partner'"
      ]
     },
     "execution_count": 138,
     "metadata": {},
     "output_type": "execute_result"
    }
   ],
   "source": [
    "# Lemmatization\n",
    "\n",
    "digieyeTextimForTesting = Lemmatize(digieyeTextimForTesting)\n",
    "digieyeTextimForTesting"
   ]
  },
  {
   "cell_type": "code",
   "execution_count": 139,
   "id": "756c254c",
   "metadata": {},
   "outputs": [
    {
     "data": {
      "text/plain": [
       "['valuable',\n",
       " 'customer',\n",
       " 'partner',\n",
       " 'valuable',\n",
       " 'customer',\n",
       " 'partner',\n",
       " 'contact',\n",
       " 'we',\n",
       " 'seek',\n",
       " 'answer',\n",
       " 'productrelate',\n",
       " 'question',\n",
       " 'schedule',\n",
       " 'demos',\n",
       " 'explore',\n",
       " 'job',\n",
       " 'possibility',\n",
       " 'join',\n",
       " 'team',\n",
       " 'help',\n",
       " 'we',\n",
       " 'achieve',\n",
       " 'great',\n",
       " 'people',\n",
       " 'deserve',\n",
       " 'great',\n",
       " 'benefit',\n",
       " 'continuous',\n",
       " 'learn',\n",
       " 'mentorship',\n",
       " 'career',\n",
       " 'growth',\n",
       " 'flexibility',\n",
       " 'remote',\n",
       " 'work',\n",
       " 'wellbeing',\n",
       " 'know',\n",
       " 'need',\n",
       " 'need',\n",
       " 'it',\n",
       " '’',\n",
       " 'philosophy',\n",
       " 'freely',\n",
       " 'share',\n",
       " 'information',\n",
       " 'workplace',\n",
       " 'way',\n",
       " 'benefit',\n",
       " 'organization',\n",
       " 'people',\n",
       " 'hybrid',\n",
       " 'istanbul',\n",
       " 'turkey',\n",
       " 'hybrid',\n",
       " 'istanbul',\n",
       " 'turkey',\n",
       " 'powerful',\n",
       " 'cpu',\n",
       " '1',\n",
       " 'us',\n",
       " 'cycle',\n",
       " 'time',\n",
       " 'also',\n",
       " 'ethernetip',\n",
       " 'communication',\n",
       " 'datum',\n",
       " 'collect',\n",
       " 'iobox',\n",
       " 'expan',\n",
       " 'module',\n",
       " '24',\n",
       " 'isolated',\n",
       " 'analog',\n",
       " 'input',\n",
       " 'iobox',\n",
       " 'expio',\n",
       " 'module',\n",
       " '16',\n",
       " 'isolate',\n",
       " 'digital',\n",
       " 'input',\n",
       " '16',\n",
       " 'isolate',\n",
       " 'digital',\n",
       " 'output',\n",
       " 'training',\n",
       " 'model',\n",
       " 'digilab',\n",
       " 'easily',\n",
       " 'need',\n",
       " 'click',\n",
       " '\"',\n",
       " 'upload',\n",
       " '\"',\n",
       " 'button',\n",
       " 'run',\n",
       " 'realtime',\n",
       " 'inference',\n",
       " 'dlbox',\n",
       " 'edge',\n",
       " 'ai',\n",
       " 'device',\n",
       " 'dlbox',\n",
       " 'fully',\n",
       " 'integrate',\n",
       " 'nocode',\n",
       " 'ai',\n",
       " 'platform',\n",
       " 'digilab',\n",
       " 'dlaas',\n",
       " 'deep',\n",
       " 'learn',\n",
       " 'service',\n",
       " 'new',\n",
       " 'service',\n",
       " 'method',\n",
       " 'ai',\n",
       " 'task',\n",
       " 'dlbox',\n",
       " 'use',\n",
       " 'api',\n",
       " 'service',\n",
       " 'server',\n",
       " 'device',\n",
       " 'dlbox',\n",
       " '\"',\n",
       " 'edge',\n",
       " 'ai',\n",
       " 'device',\n",
       " '\"',\n",
       " 'equip',\n",
       " 'powerful',\n",
       " 'nvidia',\n",
       " 'gpus',\n",
       " 'cpus',\n",
       " 'allow',\n",
       " 'run',\n",
       " 'image',\n",
       " 'process',\n",
       " 'artificial',\n",
       " 'intelligence',\n",
       " 'application',\n",
       " 'realtime',\n",
       " 'digieye',\n",
       " 'found',\n",
       " 'powered',\n",
       " 'knowledge',\n",
       " 'experience',\n",
       " 'field',\n",
       " \"'\",\n",
       " 'industry',\n",
       " '40iot',\n",
       " 'image',\n",
       " 'process',\n",
       " 'artificial',\n",
       " 'intelligence',\n",
       " \"'\",\n",
       " 'digieye',\n",
       " 'ten',\n",
       " 'year',\n",
       " 'experience',\n",
       " 'industry',\n",
       " 'successfully',\n",
       " 'develop',\n",
       " 'product',\n",
       " 'activity',\n",
       " 'field',\n",
       " 'software',\n",
       " 'digitalization',\n",
       " 'electronic',\n",
       " 'system',\n",
       " 'optical',\n",
       " 'system',\n",
       " 'image',\n",
       " 'process',\n",
       " 'artificial',\n",
       " 'intelligence',\n",
       " 'continue',\n",
       " 'work',\n",
       " 'lead',\n",
       " 'company',\n",
       " 'industry',\n",
       " 'digieye',\n",
       " 'produce',\n",
       " 'technology',\n",
       " 'implement',\n",
       " 'new',\n",
       " 'product',\n",
       " 'innovative',\n",
       " 'thinking',\n",
       " 'provide',\n",
       " 'technology',\n",
       " 'innovative',\n",
       " 'thinking',\n",
       " 'every',\n",
       " 'person',\n",
       " 'organization',\n",
       " 'world',\n",
       " 'digitalization',\n",
       " 'business',\n",
       " 'home',\n",
       " 'life',\n",
       " 'provide',\n",
       " 'user',\n",
       " 'convenience',\n",
       " 'every',\n",
       " 'stage',\n",
       " 'digitalization',\n",
       " 'empower',\n",
       " 'success',\n",
       " 'partnership',\n",
       " 'diverse',\n",
       " 'esteemed',\n",
       " 'clientele',\n",
       " 'datum',\n",
       " 'collect',\n",
       " 'train',\n",
       " 'realtime',\n",
       " 'implementation',\n",
       " 'easy',\n",
       " 'nocode',\n",
       " 'ai',\n",
       " 'platform',\n",
       " '\"',\n",
       " 'digilab',\n",
       " '\"',\n",
       " 'qcamlite',\n",
       " 'camera',\n",
       " 'suitable',\n",
       " 'multiple',\n",
       " 'task',\n",
       " 'multiple',\n",
       " 'camera',\n",
       " 'application',\n",
       " 'dlbox',\n",
       " 'work',\n",
       " '4',\n",
       " 'pc',\n",
       " 'qcamlite',\n",
       " 'camera',\n",
       " 'qcamlite',\n",
       " 'powerful',\n",
       " 'vision',\n",
       " 'processor',\n",
       " 'multiple',\n",
       " 'task',\n",
       " 'qcam',\n",
       " 'industrialgrade',\n",
       " 'smart',\n",
       " 'camera',\n",
       " 'house',\n",
       " 'artificial',\n",
       " 'intelligence',\n",
       " 'processor',\n",
       " 'image',\n",
       " 'sensor',\n",
       " 'qcam',\n",
       " 'smart',\n",
       " 'camera',\n",
       " 'facilitate',\n",
       " 'implementation',\n",
       " 'artificial',\n",
       " 'intelligencebased',\n",
       " 'machine',\n",
       " 'vision',\n",
       " 'application',\n",
       " 'various',\n",
       " 'industry',\n",
       " 'different',\n",
       " 'lens',\n",
       " 'light',\n",
       " 'source',\n",
       " 'option',\n",
       " 'fully',\n",
       " 'integrate',\n",
       " 'nocode',\n",
       " 'image',\n",
       " 'process',\n",
       " 'artificial',\n",
       " 'intelligence',\n",
       " 'platform',\n",
       " 'digilab',\n",
       " 'qcam',\n",
       " 'provide',\n",
       " 'ease',\n",
       " 'use',\n",
       " 'fast',\n",
       " 'application',\n",
       " 'deployment',\n",
       " 'digilab',\n",
       " 'iot',\n",
       " 'fully',\n",
       " 'integrate',\n",
       " 'iobox',\n",
       " 'realtime',\n",
       " 'datum',\n",
       " 'collect',\n",
       " 'connect',\n",
       " 'sensor',\n",
       " 'iobox',\n",
       " 'plug',\n",
       " 'play',\n",
       " 'digilab',\n",
       " 'iot',\n",
       " 'start',\n",
       " 'show',\n",
       " 'sensor',\n",
       " 'main',\n",
       " 'screen',\n",
       " 'collect',\n",
       " 'datum',\n",
       " 'drag',\n",
       " 'drop',\n",
       " 'datum',\n",
       " 'select',\n",
       " 'graphic',\n",
       " 'type',\n",
       " 'main',\n",
       " 'dashboard',\n",
       " 'visualize',\n",
       " 'sensor',\n",
       " 'show',\n",
       " 'leave',\n",
       " 'side',\n",
       " 'ui',\n",
       " 'easily',\n",
       " 'digilab',\n",
       " 'iot',\n",
       " 'save',\n",
       " 'data',\n",
       " 'sensor',\n",
       " 'connect',\n",
       " 'see',\n",
       " 'data',\n",
       " 'record',\n",
       " 'page',\n",
       " 'create',\n",
       " 'event',\n",
       " 'condition',\n",
       " 'dataset',\n",
       " 'import',\n",
       " 'easily',\n",
       " 'digilab',\n",
       " 'collect',\n",
       " 'qcam',\n",
       " 'integrate',\n",
       " 'digilab',\n",
       " 'labelling',\n",
       " 'anotation',\n",
       " 'never',\n",
       " 'easy',\n",
       " 'digilab',\n",
       " 'use',\n",
       " 'smart',\n",
       " 'userfriendly',\n",
       " 'digilab',\n",
       " 'tool',\n",
       " 'make',\n",
       " 'fast',\n",
       " 'train',\n",
       " 'dataset',\n",
       " 'need',\n",
       " 'click',\n",
       " '\"',\n",
       " 'train',\n",
       " '\"',\n",
       " 'button',\n",
       " 'digilab',\n",
       " 'set',\n",
       " 'everything',\n",
       " 'without',\n",
       " 'code',\n",
       " 'upload',\n",
       " 'new',\n",
       " 'train',\n",
       " 'ai',\n",
       " 'model',\n",
       " 'dlbox',\n",
       " 'edge',\n",
       " 'ai',\n",
       " 'device',\n",
       " 'qcam',\n",
       " 'smart',\n",
       " 'camera',\n",
       " 'builtin',\n",
       " 'ai',\n",
       " 'click',\n",
       " '\"',\n",
       " 'download',\n",
       " '\"',\n",
       " 'button',\n",
       " 'valuable',\n",
       " 'customer',\n",
       " 'partner']"
      ]
     },
     "execution_count": 139,
     "metadata": {},
     "output_type": "execute_result"
    }
   ],
   "source": [
    "#Stringi Listeye Çevirmek\n",
    "\n",
    "words_list = digieyeTextimForTesting.split()\n",
    "words_list"
   ]
  }
 ],
 "metadata": {
  "kernelspec": {
   "display_name": "Python 3 (ipykernel)",
   "language": "python",
   "name": "python3"
  },
  "language_info": {
   "codemirror_mode": {
    "name": "ipython",
    "version": 3
   },
   "file_extension": ".py",
   "mimetype": "text/x-python",
   "name": "python",
   "nbconvert_exporter": "python",
   "pygments_lexer": "ipython3",
   "version": "3.11.5"
  }
 },
 "nbformat": 4,
 "nbformat_minor": 5
}
